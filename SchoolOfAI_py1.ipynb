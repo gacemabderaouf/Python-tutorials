{
 "cells": [
  {
   "cell_type": "markdown",
   "metadata": {},
   "source": [
    "# Python Basics "
   ]
  },
  {
   "cell_type": "markdown",
   "metadata": {},
   "source": [
    "in this section we will present the main data types that we need and tell you how to write basic loops and conditional statements. in general python is very similar to every language out there. also the code is in most cases very readable"
   ]
  },
  {
   "cell_type": "markdown",
   "metadata": {},
   "source": [
    "## data types in python"
   ]
  },
  {
   "cell_type": "markdown",
   "metadata": {},
   "source": [
    "in python there are 15 data type, we will be talking about the main ones that we need.<br />\n",
    "**Text Type:**\tstr <br />\n",
    "**Numeric Types:**\tint, float, complex <br />\n",
    "**Sequence Types:**\tlist, tuple, range <br />\n",
    "**Mapping Type:**\tdict <br />\n",
    "you will get fimiliar with these data types as soon as you start working with them on your own."
   ]
  },
  {
   "cell_type": "markdown",
   "metadata": {},
   "source": [
    "## loops and conditional"
   ]
  },
  {
   "cell_type": "markdown",
   "metadata": {},
   "source": [
    "### if statement"
   ]
  },
  {
   "cell_type": "code",
   "execution_count": 3,
   "metadata": {},
   "outputs": [
    {
     "name": "stdout",
     "output_type": "stream",
     "text": [
      "a and b are equal\n"
     ]
    }
   ],
   "source": [
    "a = b = 9  #in python you could attribute multiple variables the same value in this manner\n",
    "\n",
    "# you could replace > with : \"==\",\"!=\",\"<=\",\">=\",\"<\"\n",
    "if b > a:\n",
    "  print(\"b is greater than a\")\n",
    "elif a == b:\n",
    "  print(\"a and b are equal\")\n",
    "#elif replaces an else: if"
   ]
  },
  {
   "cell_type": "markdown",
   "metadata": {},
   "source": [
    "### while loop"
   ]
  },
  {
   "cell_type": "code",
   "execution_count": 4,
   "metadata": {},
   "outputs": [
    {
     "name": "stdout",
     "output_type": "stream",
     "text": [
      "1\n",
      "2\n",
      "3\n",
      "4\n",
      "5\n"
     ]
    }
   ],
   "source": [
    "i = 1\n",
    "while i < 6:\n",
    "  print(i)\n",
    "  i += 1"
   ]
  },
  {
   "cell_type": "markdown",
   "metadata": {},
   "source": [
    "### for loop\n",
    "the for loops are a bit diffrent in python. to make a for loop that goes from 0 to 9 10 for example you have to do:"
   ]
  },
  {
   "cell_type": "code",
   "execution_count": 5,
   "metadata": {},
   "outputs": [
    {
     "name": "stdout",
     "output_type": "stream",
     "text": [
      "0\n",
      "1\n",
      "2\n",
      "3\n",
      "4\n",
      "5\n",
      "6\n",
      "7\n",
      "8\n",
      "9\n"
     ]
    }
   ],
   "source": [
    "for x in range(0, 10):\n",
    "  print(x)"
   ]
  },
  {
   "cell_type": "markdown",
   "metadata": {
    "colab_type": "text",
    "id": "HXdMJXQ4qobp"
   },
   "source": [
    "### Functions\n",
    "Code reuse is a very important part of programming in any language. \n",
    "Increasing code size makes it harder to maintain. For a large programming project to be successful, it is essential to abide by the \"Don't Repeat Yourself\" principle. \n",
    "\n",
    "A function in Python is defined using the keyword `def`, followed by a `function name`, a signature within parentheses `()`, and a colon `:`. The following code, with one additional level of indentation, is the `function body`.\n",
    "\n",
    "The following code is a simple example"
   ]
  },
  {
   "cell_type": "code",
   "execution_count": 0,
   "metadata": {
    "colab": {},
    "colab_type": "code",
    "id": "N01pwmXwtJOc"
   },
   "outputs": [],
   "source": [
    "def func0():   \n",
    "    print(\"test\")"
   ]
  },
  {
   "cell_type": "markdown",
   "metadata": {
    "colab_type": "text",
    "id": "cXpSPjLQtKbF"
   },
   "source": [
    "We call the function in this way :"
   ]
  },
  {
   "cell_type": "code",
   "execution_count": 0,
   "metadata": {
    "colab": {},
    "colab_type": "code",
    "id": "z1dhfXwEtPZQ"
   },
   "outputs": [],
   "source": [
    "func0()"
   ]
  },
  {
   "cell_type": "markdown",
   "metadata": {
    "colab_type": "text",
    "id": "a0oYU_CctgUL"
   },
   "source": [
    "You must define functions before they are called, in the same way that you must assign variables before using them.\n",
    "\n",
    "All the function definitions we've looked at so far have been functions of zero arguments, which are called with empty parentheses. \n",
    "However, most functions take arguments.\n",
    "The example below defines a function that takes one argument:"
   ]
  },
  {
   "cell_type": "code",
   "execution_count": 0,
   "metadata": {
    "colab": {},
    "colab_type": "code",
    "id": "mTNdBhFTuvF2"
   },
   "outputs": [],
   "source": [
    "def func1(message):   \n",
    "    print(\"the message is :\" + message)"
   ]
  },
  {
   "cell_type": "code",
   "execution_count": 0,
   "metadata": {
    "colab": {},
    "colab_type": "code",
    "id": "4fyqZfF3wrqD"
   },
   "outputs": [],
   "source": []
  },
  {
   "cell_type": "markdown",
   "metadata": {
    "colab_type": "text",
    "id": "Q0ghUnUtvTOP"
   },
   "source": [
    "You can also define functions with more than one argument; separate them with commas."
   ]
  },
  {
   "cell_type": "code",
   "execution_count": 0,
   "metadata": {
    "colab": {},
    "colab_type": "code",
    "id": "tSj-6x2QvXR6"
   },
   "outputs": [],
   "source": [
    "def print_sum_twice(x, y):\n",
    "   print(x + y)\n",
    "   print(x + y)\n",
    "\n",
    "print_sum_twice(5,3)"
   ]
  },
  {
   "cell_type": "markdown",
   "metadata": {
    "colab_type": "text",
    "id": "8nGyEF_rvs2A"
   },
   "source": [
    "With certain functions,we may want to return a value that can be used later. \n",
    "To do this for your defined functions, you can use the `return` statement"
   ]
  },
  {
   "cell_type": "code",
   "execution_count": 0,
   "metadata": {
    "colab": {},
    "colab_type": "code",
    "id": "L_6Yq486wHle"
   },
   "outputs": [],
   "source": [
    "def max(x, y):\n",
    "    if x >=y:\n",
    "        return x\n",
    "    else:\n",
    "        return y\n",
    "        \n",
    "print(max(4, 7))\n",
    "z = max(8, 5)\n",
    "print(z)"
   ]
  },
  {
   "cell_type": "markdown",
   "metadata": {
    "colab_type": "text",
    "id": "R4RKHwT6wXiz"
   },
   "source": [
    "Once you return a value from a function, it immediately stops being executed. Any code after the return statement will never happen.\n",
    "For example:"
   ]
  },
  {
   "cell_type": "code",
   "execution_count": 0,
   "metadata": {
    "colab": {
     "base_uri": "https://localhost:8080/",
     "height": 67
    },
    "colab_type": "code",
    "id": "WFmthYniwuEu",
    "outputId": "f90233d3-a4ae-4e12-bf7d-f0b5e8e39e7b"
   },
   "outputs": [
    {
     "name": "stdout",
     "output_type": "stream",
     "text": [
      "True\n",
      "3 is odd\n",
      "False\n"
     ]
    }
   ],
   "source": [
    "def is_odd(number):   \n",
    "    test = number % 2 == 1\n",
    "    return test\n",
    "    # the following won't be executed\n",
    "    if test : # same as \"if test == True :\"   \n",
    "      print(\"{0} is odd\".format(number))\n",
    "    else :\n",
    "      print(\"{0} is even\".format(number))\n",
    "\n",
    "print(is_odd(3))\n",
    "\n",
    "def is_even(number):   \n",
    "    test = number % 2 == 0\n",
    "    \n",
    "    if test : # same as \"if test == True :\"   \n",
    "      print(\"{0} is even\".format(number))\n",
    "    else :\n",
    "      print(\"{0} is odd\".format(number))\n",
    "    \n",
    "    return test   \n",
    "\n",
    "print(is_even(3))"
   ]
  },
  {
   "cell_type": "markdown",
   "metadata": {
    "colab_type": "text",
    "id": "7QyjUil4zKoP"
   },
   "source": [
    "In a definition of a function, we can give default values to the arguments the function takes:"
   ]
  },
  {
   "cell_type": "code",
   "execution_count": 0,
   "metadata": {
    "colab": {},
    "colab_type": "code",
    "id": "T1HG9gstzQQA"
   },
   "outputs": [],
   "source": [
    "def myfunc(x, p=2, debug=False):\n",
    "    if debug:\n",
    "        print(\"evaluating myfunc for x = \" + str(x) + \" using exponent p = \" + str(p))\n",
    "    return x**p"
   ]
  },
  {
   "cell_type": "markdown",
   "metadata": {
    "colab_type": "text",
    "id": "jmo6qGmnzT7T"
   },
   "source": [
    "If we don't provide a value of the debug argument when calling the the function myfunc it defaults to the value provided in the function definition:"
   ]
  },
  {
   "cell_type": "code",
   "execution_count": 0,
   "metadata": {
    "colab": {},
    "colab_type": "code",
    "id": "Ppv3s_aMzXbf"
   },
   "outputs": [],
   "source": [
    "myfunc(5)"
   ]
  },
  {
   "cell_type": "code",
   "execution_count": 0,
   "metadata": {
    "colab": {},
    "colab_type": "code",
    "id": "P6-Vd_0wzaIu"
   },
   "outputs": [],
   "source": [
    "myfunc(5, debug=True)"
   ]
  },
  {
   "cell_type": "markdown",
   "metadata": {
    "colab_type": "text",
    "id": "N121GCcCzfky"
   },
   "source": [
    "If we explicitly list the name of the arguments in the function calls, they do not need to come in the same order as in the function definition. This is called keyword arguments, and is often very useful in functions that takes a lot of optional arguments."
   ]
  },
  {
   "cell_type": "code",
   "execution_count": 0,
   "metadata": {
    "colab": {},
    "colab_type": "code",
    "id": "MObHHP1Uzix6"
   },
   "outputs": [],
   "source": [
    "myfunc(p=3, debug=True, x=7)"
   ]
  },
  {
   "cell_type": "markdown",
   "metadata": {
    "colab_type": "text",
    "id": "OBqAufsFkHv8"
   },
   "source": [
    "Optionally, but highly recommended, we can define a so called \"docstring\", which is a description of the functions purpose and behaivor. The docstring should follow directly after the function definition, before the code in the function body."
   ]
  },
  {
   "cell_type": "code",
   "execution_count": 0,
   "metadata": {
    "colab": {},
    "colab_type": "code",
    "id": "jHeLnJHvkMRC"
   },
   "outputs": [],
   "source": [
    "def func1(s):\n",
    "    \"\"\"\n",
    "    Print a string 's' and tell how many characters it has    \n",
    "    \"\"\"\n",
    "    #comments are ignored while docstring is returned when calling 'help' function\n",
    "    \n",
    "    print(s + \" has \" + str(len(s)) + \" characters\")"
   ]
  },
  {
   "cell_type": "code",
   "execution_count": 3,
   "metadata": {
    "colab": {
     "base_uri": "https://localhost:8080/",
     "height": 101
    },
    "colab_type": "code",
    "id": "dJDYac1gkRlZ",
    "outputId": "f6fe6b1e-ded7-4a24-c30a-36ee3375777d"
   },
   "outputs": [
    {
     "name": "stdout",
     "output_type": "stream",
     "text": [
      "Help on function func1 in module __main__:\n",
      "\n",
      "func1(s)\n",
      "    Print a string 's' and tell how many characters it has\n",
      "\n"
     ]
    }
   ],
   "source": [
    "help(func1)"
   ]
  },
  {
   "cell_type": "markdown",
   "metadata": {
    "colab_type": "text",
    "id": "uqUxqyrLmaet"
   },
   "source": [
    "Python has a number of functions and types built into it that are always available. We list some of them : \n",
    "\n",
    "\n",
    "* abs(x) : Return the absolute value of a number. The argument may be an integer or a floating point number\n",
    "* hex(x) : Convert an integer number to a lowercase hexadecimal string prefixed with “0x”.\n",
    "* len(s) : Return the length (the number of items) of an object. The argument may be a sequence (such as a string, bytes, tuple, list, or range) or a collection (such as a dictionary, set, or frozen set).\n",
    "* type(object) : Return the type of an object. The return value is a type object\n",
    "\n",
    "https://docs.python.org/3/library/functions.html"
   ]
  },
  {
   "cell_type": "markdown",
   "metadata": {
    "colab_type": "text",
    "id": "3PSG7VnW5MpM"
   },
   "source": [
    "### Modules\n",
    "\n",
    "Modules are pieces of code regrouped to be called in order to fulfill common tasks, such as generating random numbers, performing mathematical operations, etc.\n",
    "\n",
    "The Python Standard Library is a large collection of modules that provides cross-platform implementations of common facilities such as access to the operating system, file I/O, string management, mathematical operations, and much more.\n",
    "\n",
    "The basic way to use a module is to add `import module_name` at the top of your code,  and then using `module_name.function_or_value_name` to access functions and values in the module.\n",
    "For example, the following example uses the ``math` module to generate calculate `cosinus`:\n"
   ]
  },
  {
   "cell_type": "code",
   "execution_count": 0,
   "metadata": {
    "colab": {},
    "colab_type": "code",
    "id": "RGXiS9gNgI0v"
   },
   "outputs": [],
   "source": [
    "import math\n",
    "\n",
    "x = math.cos(2 * math.pi)\n",
    "\n",
    "print(x)"
   ]
  },
  {
   "cell_type": "markdown",
   "metadata": {
    "colab_type": "text",
    "id": "rGvL9OmdgM3n"
   },
   "source": [
    "Alternatively, we can chose to import all symbols (functions and variables) in a module to the current namespace (so that we don't need to use the prefix \"`math.`\" every time we use something from the `math` module:"
   ]
  },
  {
   "cell_type": "code",
   "execution_count": 0,
   "metadata": {
    "colab": {},
    "colab_type": "code",
    "id": "cHTwF4FvgPkJ"
   },
   "outputs": [],
   "source": [
    "from math import *\n",
    "\n",
    "x = cos(2 * pi)\n",
    "\n",
    "print(x)"
   ]
  },
  {
   "cell_type": "markdown",
   "metadata": {
    "colab_type": "text",
    "id": "KtZvZzAvga08"
   },
   "source": [
    "There is another kind of `import` that can be used if you only need certain functions from a module.\n",
    "These take the form `from module_name import function_or_value_name`, and then `function_or_value_name` can be used as if it were defined normally in your code. \n",
    "For example, to import only the `pi` constant from the math module:"
   ]
  },
  {
   "cell_type": "code",
   "execution_count": 1,
   "metadata": {
    "colab": {
     "base_uri": "https://localhost:8080/",
     "height": 34
    },
    "colab_type": "code",
    "id": "kNID8NVDg1fg",
    "outputId": "716c484b-9a8a-46c8-9bbc-18aa88d7eb97"
   },
   "outputs": [
    {
     "name": "stdout",
     "output_type": "stream",
     "text": [
      "3.141592653589793\n"
     ]
    }
   ],
   "source": [
    "from math import pi\n",
    "\n",
    "print(pi)"
   ]
  },
  {
   "cell_type": "markdown",
   "metadata": {
    "colab_type": "text",
    "id": "r0HJ5mkPhL_V"
   },
   "source": [
    "Once a module is imported, we can list the symbols it provides using the `dir` function:"
   ]
  },
  {
   "cell_type": "code",
   "execution_count": 0,
   "metadata": {
    "colab": {},
    "colab_type": "code",
    "id": "NMC6uEZehQLP"
   },
   "outputs": [],
   "source": [
    "import math\n",
    "\n",
    "print(dir(math))"
   ]
  },
  {
   "cell_type": "markdown",
   "metadata": {
    "colab_type": "text",
    "id": "UdI7sA3hhQw9"
   },
   "source": [
    "And using the function help we can get a description of the module or a description of each function (almost .. not all functions have docstrings, as they are technically called, but the vast majority of functions are documented this way)."
   ]
  },
  {
   "cell_type": "code",
   "execution_count": 0,
   "metadata": {
    "colab": {},
    "colab_type": "code",
    "id": "e0zSeEJihWxz"
   },
   "outputs": [],
   "source": [
    "print(help(math.log))\n",
    "print(help(math))"
   ]
  },
  {
   "cell_type": "markdown",
   "metadata": {
    "colab_type": "text",
    "id": "MoDyCzl7jF9k"
   },
   "source": [
    "As a popular open source development project, Python has an active supporting community of contributors and users that also make their software available for other Python developers to use under open source license terms.\n",
    "\n",
    "This allows Python users to share and collaborate effectively, benefiting from the solutions others have already created to common (and sometimes even rare!) problems, as well as potentially contributing their own solutions to the common pool.\n",
    "\n",
    "`pip`(The Python Packaging Index) is the preferred installer program. Starting with Python 3.4, it is included by default with the Python binary installers.\n",
    "\n",
    "The standard packaging tools are all designed to be used from the command line.\n",
    "\n",
    "The following command will install the latest version of a module and its dependencies from the Python Packaging Index:\n",
    "\n",
    "`python -m pip install SomePackage`\n",
    "\n",
    "https://docs.python.org/3.6/installing/index.html"
   ]
  },
  {
   "cell_type": "markdown",
   "metadata": {},
   "source": [
    "# Example:\n",
    "### Calculate the n'th [prime number](https://en.wikipedia.org/wiki/Prime_number)\n",
    "#####      Try to do it alone before moving to the solution !\n",
    "## Objectifs:\n",
    "* ### Manipulation of input/output.\n",
    "* ### understand of variables / condition statements / loops.\n",
    "\n",
    "## Description of the problem:\n",
    "* ### Given a number $ n $ as input.\n",
    "* ### Find and print the n'th prime number."
   ]
  },
  {
   "cell_type": "markdown",
   "metadata": {},
   "source": [
    "## solution:\n",
    "* we get the value of $ n $ from the input then we convert it to integer:"
   ]
  },
  {
   "cell_type": "code",
   "execution_count": 7,
   "metadata": {},
   "outputs": [
    {
     "name": "stdout",
     "output_type": "stream",
     "text": [
      "5\n"
     ]
    }
   ],
   "source": [
    "n = int(input())"
   ]
  },
  {
   "cell_type": "markdown",
   "metadata": {},
   "source": [
    "* ####  We initialise two variables: \n",
    "    * #### cp : to count the number of found prime numbers\n",
    "    * #### i : contains the current number to check\n",
    "    * #### last_prime : contains the last found prime number"
   ]
  },
  {
   "cell_type": "code",
   "execution_count": 8,
   "metadata": {},
   "outputs": [],
   "source": [
    "cp = 0 # at the beginning we don't have any prime number\n",
    "i = 2 # Because 0 and 1 are not prime\n",
    "last_prime = 0 # contains the last found prime number"
   ]
  },
  {
   "cell_type": "markdown",
   "metadata": {},
   "source": [
    "* #### The main loop will stop when we find the n'th prime number"
   ]
  },
  {
   "cell_type": "code",
   "execution_count": 9,
   "metadata": {},
   "outputs": [],
   "source": [
    "while cp < n:\n",
    "    prime = True # we suppose that the number is prime\n",
    "    for j in range(2, i): # if we find a divisor between 2 and i-1 then it's not a prime number\n",
    "        if i % j == 0:\n",
    "            prime = False\n",
    "    if prime: # In case where it's prime number we increment cp\n",
    "        cp += 1\n",
    "        last_prime = i\n",
    "    i += 1 # for the next iteration"
   ]
  },
  {
   "cell_type": "markdown",
   "metadata": {},
   "source": [
    "* #### Finally we print the answer which is stored in last_prime"
   ]
  },
  {
   "cell_type": "code",
   "execution_count": 10,
   "metadata": {},
   "outputs": [
    {
     "name": "stdout",
     "output_type": "stream",
     "text": [
      "11\n"
     ]
    }
   ],
   "source": [
    "print(last_prime)"
   ]
  },
  {
   "cell_type": "markdown",
   "metadata": {},
   "source": [
    "## Simplified Solution:\n",
    "#### We can simplify our solution by using a function that checks if a given number is prime or not"
   ]
  },
  {
   "cell_type": "code",
   "execution_count": 20,
   "metadata": {},
   "outputs": [],
   "source": [
    "def is_prime(n):\n",
    "    for i in range(2, n): # we check every number from 2 to n - 1\n",
    "        if n % i == 0:\n",
    "            return False # if it's divisible by i then the number is not prime\n",
    "        \n",
    "    return True # in case it's prime number\n",
    "    \n"
   ]
  },
  {
   "cell_type": "markdown",
   "metadata": {},
   "source": [
    "#### Now we will add the main function that returns the n'th prime number:"
   ]
  },
  {
   "cell_type": "code",
   "execution_count": 21,
   "metadata": {},
   "outputs": [],
   "source": [
    "def find_prime(n):\n",
    "    cp = 0 # at the beginning we don't have any prime number\n",
    "    i = 2 # Because 0 and 1 are not prime\n",
    "    last_prime = 0 # contains the last found prime number\n",
    "    while cp < n:\n",
    "        if is_prime(i): # In case where it's prime number we increment cp\n",
    "            cp += 1\n",
    "            last_prime = i\n",
    "        i += 1 # for the next iteration\n",
    "    return last_prime"
   ]
  },
  {
   "cell_type": "markdown",
   "metadata": {},
   "source": [
    "### And our solution become:"
   ]
  },
  {
   "cell_type": "code",
   "execution_count": 22,
   "metadata": {},
   "outputs": [
    {
     "name": "stdout",
     "output_type": "stream",
     "text": [
      "10\n",
      "29\n"
     ]
    }
   ],
   "source": [
    "n = int(input()) # get the input\n",
    "print(find_prime(n)) # print the answer"
   ]
  },
  {
   "cell_type": "markdown",
   "metadata": {},
   "source": [
    "## challenge\n",
    "#### Easy: Write a funciton that calculate the sum of divisors for a given number.\n",
    "#### Medium : Write a function that Calculate the n'th term of Fibonachi given that \n",
    "### $$F_{0} = 0, F_{1} = 1, F_{n + 1} = F_{n} + F_{n - 1} $$"
   ]
  },
  {
   "cell_type": "code",
   "execution_count": null,
   "metadata": {},
   "outputs": [],
   "source": []
  }
 ],
 "metadata": {
  "kernelspec": {
   "display_name": "Python 3",
   "language": "python",
   "name": "python3"
  },
  "language_info": {
   "codemirror_mode": {
    "name": "ipython",
    "version": 3
   },
   "file_extension": ".py",
   "mimetype": "text/x-python",
   "name": "python",
   "nbconvert_exporter": "python",
   "pygments_lexer": "ipython3",
   "version": "3.7.4"
  }
 },
 "nbformat": 4,
 "nbformat_minor": 2
}
